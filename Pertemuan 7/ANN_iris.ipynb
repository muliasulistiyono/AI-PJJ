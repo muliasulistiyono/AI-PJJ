{
 "cells": [
  {
   "cell_type": "code",
   "execution_count": 1,
   "metadata": {},
   "outputs": [],
   "source": [
    "from sklearn import datasets\n",
    "from sklearn.model_selection import train_test_split\n",
    "\n",
    "iris = datasets.load_iris()\n",
    "\n",
    "X = iris.data\n",
    "y = iris.target"
   ]
  },
  {
   "cell_type": "code",
   "execution_count": 12,
   "metadata": {},
   "outputs": [
    {
     "name": "stdout",
     "output_type": "stream",
     "text": [
      "X_train (114, 4)\n",
      "X_val (21, 4)\n",
      "X_test (15, 4)\n"
     ]
    }
   ],
   "source": [
    "X_train, X_test, Y_train, Y_test = train_test_split(X, y, test_size=.10)\n",
    "X_train, X_val, Y_train, Y_val = train_test_split(X_train, Y_train, test_size=.15)\n",
    "print('X_train', X_train.shape)\n",
    "print('X_val', X_val.shape)\n",
    "print('X_test', X_test.shape)"
   ]
  },
  {
   "cell_type": "code",
   "execution_count": 13,
   "metadata": {},
   "outputs": [],
   "source": [
    "from sklearn.neural_network import MLPClassifier\n",
    "\n",
    "mlp = MLPClassifier(hidden_layer_sizes=(64, ), activation='relu',max_iter=1000, epsilon=1e-08)"
   ]
  },
  {
   "cell_type": "code",
   "execution_count": 14,
   "metadata": {},
   "outputs": [
    {
     "name": "stdout",
     "output_type": "stream",
     "text": [
      "Akurasi Validasi Training ANN: 0.9523809523809523\n"
     ]
    }
   ],
   "source": [
    "from sklearn.metrics import accuracy_score\n",
    "\n",
    "mlp.fit(X_train, Y_train)\n",
    "prediksi_val = mlp.predict(X_val)\n",
    "acc_val = accuracy_score(Y_val, prediksi_val)\n",
    "print('Akurasi Validasi Training ANN:', acc_val)"
   ]
  },
  {
   "cell_type": "code",
   "execution_count": 15,
   "metadata": {},
   "outputs": [
    {
     "name": "stdout",
     "output_type": "stream",
     "text": [
      "Akurasi Testing ANN: 0.9333333333333333\n"
     ]
    }
   ],
   "source": [
    "prediksi_test = mlp.predict(X_test)\n",
    "acc_test = accuracy_score(Y_test, prediksi_test)\n",
    "print('Akurasi Testing ANN:', acc_test)"
   ]
  },
  {
   "cell_type": "code",
   "execution_count": 16,
   "metadata": {},
   "outputs": [
    {
     "name": "stdout",
     "output_type": "stream",
     "text": [
      "Akurasi Testing ANN: 0.9333333333333333\n"
     ]
    },
    {
     "data": {
      "image/png": "[encoded data removed]",
      "text/plain": [
       "<Figure size 432x288 with 2 Axes>"
      ]
     },
     "metadata": {
      "needs_background": "light"
     },
     "output_type": "display_data"
    }
   ],
   "source": [
    "from sklearn.metrics import accuracy_score, plot_confusion_matrix\n",
    "\n",
    "prediksi = mlp.predict(X_test)\n",
    "plot_confusion_matrix(mlp, X_test, Y_test)\n",
    "accuracy = accuracy_score(Y_test, prediksi)\n",
    "print('Akurasi Testing ANN:', accuracy)"
   ]
  },
  {
   "cell_type": "code",
   "execution_count": 17,
   "metadata": {},
   "outputs": [],
   "source": [
    "from keras.utils import to_categorical\n",
    "\n",
    "Y_train = to_categorical(Y_train,3)\n",
    "Y_val = to_categorical(Y_val,3)\n",
    "Y_test = to_categorical(Y_test,3)"
   ]
  },
  {
   "cell_type": "code",
   "execution_count": 18,
   "metadata": {},
   "outputs": [],
   "source": [
    "from keras.models import Sequential\n",
    "from keras.layers import Flatten, Dense\n",
    "\n",
    "model = Sequential()\n",
    "model.add(Flatten())\n",
    "model.add(Dense(64,activation='relu'))\n",
    "model.add(Dense(3,activation='softmax'))\n",
    "\n",
    "model.compile(optimizer='adam',loss='categorical_crossentropy', metrics=['acc'])"
   ]
  },
  {
   "cell_type": "code",
   "execution_count": 19,
   "metadata": {},
   "outputs": [
    {
     "name": "stdout",
     "output_type": "stream",
     "text": [
      "Epoch 1/100\n",
      "23/23 [==============================] - 0s 6ms/step - loss: 1.6800 - acc: 0.3596 - val_loss: 1.0639 - val_acc: 0.6667\n",
      "Epoch 2/100\n",
      "23/23 [==============================] - 0s 1ms/step - loss: 0.9820 - acc: 0.5439 - val_loss: 0.9722 - val_acc: 0.2857\n",
      "Epoch 3/100\n",
      "23/23 [==============================] - 0s 1ms/step - loss: 0.8550 - acc: 0.5439 - val_loss: 0.7961 - val_acc: 0.7143\n",
      "Epoch 4/100\n",
      "23/23 [==============================] - 0s 2ms/step - loss: 0.7708 - acc: 0.7632 - val_loss: 0.6813 - val_acc: 0.9048\n",
      "Epoch 5/100\n",
      "23/23 [==============================] - 0s 1ms/step - loss: 0.6899 - acc: 0.7807 - val_loss: 0.6208 - val_acc: 0.9048\n",
      "Epoch 6/100\n",
      "23/23 [==============================] - 0s 1ms/step - loss: 0.6440 - acc: 0.6930 - val_loss: 0.5735 - val_acc: 0.9048\n",
      "Epoch 7/100\n",
      "23/23 [==============================] - 0s 1ms/step - loss: 0.5914 - acc: 0.8947 - val_loss: 0.5118 - val_acc: 0.9048\n",
      "Epoch 8/100\n",
      "23/23 [==============================] - 0s 1ms/step - loss: 0.5672 - acc: 0.7719 - val_loss: 0.4784 - val_acc: 0.8571\n",
      "Epoch 9/100\n",
      "23/23 [==============================] - 0s 1ms/step - loss: 0.5280 - acc: 0.9123 - val_loss: 0.4500 - val_acc: 0.9048\n",
      "Epoch 10/100\n",
      "23/23 [==============================] - 0s 1ms/step - loss: 0.5126 - acc: 0.7895 - val_loss: 0.4223 - val_acc: 0.9524\n",
      "Epoch 11/100\n",
      "23/23 [==============================] - 0s 1ms/step - loss: 0.4889 - acc: 0.8421 - val_loss: 0.4092 - val_acc: 0.8095\n",
      "Epoch 12/100\n",
      "23/23 [==============================] - 0s 2ms/step - loss: 0.4532 - acc: 0.9211 - val_loss: 0.3841 - val_acc: 0.9524\n",
      "Epoch 13/100\n",
      "23/23 [==============================] - 0s 1ms/step - loss: 0.4390 - acc: 0.9211 - val_loss: 0.3698 - val_acc: 0.9048\n",
      "Epoch 14/100\n",
      "23/23 [==============================] - 0s 2ms/step - loss: 0.4301 - acc: 0.8509 - val_loss: 0.3515 - val_acc: 0.9048\n",
      "Epoch 15/100\n",
      "23/23 [==============================] - 0s 2ms/step - loss: 0.4090 - acc: 0.9649 - val_loss: 0.3369 - val_acc: 0.9524\n",
      "Epoch 16/100\n",
      "23/23 [==============================] - 0s 1ms/step - loss: 0.3963 - acc: 0.9386 - val_loss: 0.3238 - val_acc: 0.9524\n",
      "Epoch 17/100\n",
      "23/23 [==============================] - 0s 1ms/step - loss: 0.3760 - acc: 0.9298 - val_loss: 0.3081 - val_acc: 0.9524\n",
      "Epoch 18/100\n",
      "23/23 [==============================] - 0s 2ms/step - loss: 0.3647 - acc: 0.9298 - val_loss: 0.2966 - val_acc: 1.0000\n",
      "Epoch 19/100\n",
      "23/23 [==============================] - 0s 1ms/step - loss: 0.3568 - acc: 0.9474 - val_loss: 0.2911 - val_acc: 0.9524\n",
      "Epoch 20/100\n",
      "23/23 [==============================] - 0s 1ms/step - loss: 0.3521 - acc: 0.8947 - val_loss: 0.2816 - val_acc: 0.9524\n",
      "Epoch 21/100\n",
      "23/23 [==============================] - 0s 1ms/step - loss: 0.3263 - acc: 0.9649 - val_loss: 0.2665 - val_acc: 0.9524\n",
      "Epoch 22/100\n",
      "23/23 [==============================] - 0s 2ms/step - loss: 0.3336 - acc: 0.9123 - val_loss: 0.2600 - val_acc: 0.9524\n",
      "Epoch 23/100\n",
      "23/23 [==============================] - 0s 2ms/step - loss: 0.3270 - acc: 0.9298 - val_loss: 0.2544 - val_acc: 0.9524\n",
      "Epoch 24/100\n",
      "23/23 [==============================] - 0s 1ms/step - loss: 0.2923 - acc: 0.9737 - val_loss: 0.2394 - val_acc: 1.0000\n",
      "Epoch 25/100\n",
      "23/23 [==============================] - 0s 1ms/step - loss: 0.2856 - acc: 0.9474 - val_loss: 0.2333 - val_acc: 0.9524\n",
      "Epoch 26/100\n",
      "23/23 [==============================] - 0s 1ms/step - loss: 0.2771 - acc: 0.9737 - val_loss: 0.2223 - val_acc: 0.9524\n",
      "Epoch 27/100\n",
      "23/23 [==============================] - 0s 1ms/step - loss: 0.2656 - acc: 0.9649 - val_loss: 0.2151 - val_acc: 0.9524\n",
      "Epoch 28/100\n",
      "23/23 [==============================] - 0s 2ms/step - loss: 0.2623 - acc: 0.9561 - val_loss: 0.2072 - val_acc: 0.9524\n",
      "Epoch 29/100\n",
      "23/23 [==============================] - 0s 1ms/step - loss: 0.2586 - acc: 0.9649 - val_loss: 0.2057 - val_acc: 1.0000\n",
      "Epoch 30/100\n",
      "23/23 [==============================] - 0s 1ms/step - loss: 0.2476 - acc: 0.9561 - val_loss: 0.2013 - val_acc: 0.9524\n",
      "Epoch 31/100\n",
      "23/23 [==============================] - 0s 2ms/step - loss: 0.2360 - acc: 0.9561 - val_loss: 0.1897 - val_acc: 1.0000\n",
      "Epoch 32/100\n",
      "23/23 [==============================] - 0s 2ms/step - loss: 0.2340 - acc: 0.9649 - val_loss: 0.1831 - val_acc: 0.9524\n",
      "Epoch 33/100\n",
      "23/23 [==============================] - 0s 1ms/step - loss: 0.2272 - acc: 0.9474 - val_loss: 0.1800 - val_acc: 0.9524\n",
      "Epoch 34/100\n",
      "23/23 [==============================] - 0s 2ms/step - loss: 0.2174 - acc: 0.9737 - val_loss: 0.1805 - val_acc: 0.9524\n",
      "Epoch 35/100\n",
      "23/23 [==============================] - 0s 1ms/step - loss: 0.2149 - acc: 0.9737 - val_loss: 0.1663 - val_acc: 0.9524\n",
      "Epoch 36/100\n",
      "23/23 [==============================] - 0s 1ms/step - loss: 0.2035 - acc: 0.9561 - val_loss: 0.1664 - val_acc: 0.9524\n",
      "Epoch 37/100\n",
      "23/23 [==============================] - 0s 1ms/step - loss: 0.1988 - acc: 0.9649 - val_loss: 0.1573 - val_acc: 0.9524\n",
      "Epoch 38/100\n",
      "23/23 [==============================] - 0s 1ms/step - loss: 0.1923 - acc: 0.9825 - val_loss: 0.1538 - val_acc: 0.9524\n",
      "Epoch 39/100\n",
      "23/23 [==============================] - 0s 1ms/step - loss: 0.1952 - acc: 0.9649 - val_loss: 0.1559 - val_acc: 0.9524\n",
      "Epoch 40/100\n",
      "23/23 [==============================] - 0s 1ms/step - loss: 0.1947 - acc: 0.9737 - val_loss: 0.1466 - val_acc: 1.0000\n",
      "Epoch 41/100\n",
      "23/23 [==============================] - 0s 1ms/step - loss: 0.1812 - acc: 0.9737 - val_loss: 0.1409 - val_acc: 0.9524\n",
      "Epoch 42/100\n",
      "23/23 [==============================] - 0s 1ms/step - loss: 0.1735 - acc: 0.9737 - val_loss: 0.1392 - val_acc: 0.9524\n",
      "Epoch 43/100\n",
      "23/23 [==============================] - 0s 1ms/step - loss: 0.1793 - acc: 0.9561 - val_loss: 0.1354 - val_acc: 1.0000\n",
      "Epoch 44/100\n",
      "23/23 [==============================] - 0s 1ms/step - loss: 0.1800 - acc: 0.9649 - val_loss: 0.1298 - val_acc: 1.0000\n",
      "Epoch 45/100\n",
      "23/23 [==============================] - 0s 1ms/step - loss: 0.1735 - acc: 0.9649 - val_loss: 0.1366 - val_acc: 0.9524\n",
      "Epoch 46/100\n",
      "23/23 [==============================] - 0s 1ms/step - loss: 0.1917 - acc: 0.9561 - val_loss: 0.1310 - val_acc: 1.0000\n",
      "Epoch 47/100\n",
      "23/23 [==============================] - 0s 1ms/step - loss: 0.1626 - acc: 0.9649 - val_loss: 0.1212 - val_acc: 0.9524\n",
      "Epoch 48/100\n",
      "23/23 [==============================] - 0s 1ms/step - loss: 0.1557 - acc: 0.9649 - val_loss: 0.1248 - val_acc: 0.9524\n",
      "Epoch 49/100\n",
      "23/23 [==============================] - 0s 1ms/step - loss: 0.1603 - acc: 0.9737 - val_loss: 0.1257 - val_acc: 0.9524\n",
      "Epoch 50/100\n",
      "23/23 [==============================] - 0s 1ms/step - loss: 0.1522 - acc: 0.9649 - val_loss: 0.1175 - val_acc: 0.9524\n",
      "Epoch 51/100\n",
      "23/23 [==============================] - 0s 1ms/step - loss: 0.1515 - acc: 0.9649 - val_loss: 0.1102 - val_acc: 1.0000\n",
      "Epoch 52/100\n",
      "23/23 [==============================] - 0s 1ms/step - loss: 0.1380 - acc: 0.9825 - val_loss: 0.1123 - val_acc: 0.9524\n",
      "Epoch 53/100\n",
      "23/23 [==============================] - 0s 1ms/step - loss: 0.1358 - acc: 0.9825 - val_loss: 0.1054 - val_acc: 1.0000\n",
      "Epoch 54/100\n",
      "23/23 [==============================] - 0s 1ms/step - loss: 0.1391 - acc: 0.9649 - val_loss: 0.1102 - val_acc: 0.9524\n",
      "Epoch 55/100\n",
      "23/23 [==============================] - 0s 1ms/step - loss: 0.1288 - acc: 0.9737 - val_loss: 0.1017 - val_acc: 1.0000\n",
      "Epoch 56/100\n",
      "23/23 [==============================] - 0s 2ms/step - loss: 0.1316 - acc: 0.9825 - val_loss: 0.1000 - val_acc: 0.9524\n",
      "Epoch 57/100\n",
      "23/23 [==============================] - 0s 1ms/step - loss: 0.1286 - acc: 0.9825 - val_loss: 0.0972 - val_acc: 1.0000\n",
      "Epoch 58/100\n",
      "23/23 [==============================] - 0s 1ms/step - loss: 0.1265 - acc: 0.9737 - val_loss: 0.0962 - val_acc: 1.0000\n",
      "Epoch 59/100\n",
      "23/23 [==============================] - 0s 1ms/step - loss: 0.1231 - acc: 0.9825 - val_loss: 0.1044 - val_acc: 0.9524\n",
      "Epoch 60/100\n",
      "23/23 [==============================] - 0s 1ms/step - loss: 0.1237 - acc: 0.9912 - val_loss: 0.0935 - val_acc: 1.0000\n",
      "Epoch 61/100\n",
      "23/23 [==============================] - 0s 1ms/step - loss: 0.1262 - acc: 0.9825 - val_loss: 0.0999 - val_acc: 0.9524\n",
      "Epoch 62/100\n",
      "23/23 [==============================] - 0s 1ms/step - loss: 0.1219 - acc: 0.9737 - val_loss: 0.0980 - val_acc: 0.9524\n",
      "Epoch 63/100\n"
     ]
    },
    {
     "name": "stdout",
     "output_type": "stream",
     "text": [
      "23/23 [==============================] - 0s 1ms/step - loss: 0.1207 - acc: 0.9737 - val_loss: 0.0981 - val_acc: 0.9524\n",
      "Epoch 64/100\n",
      "23/23 [==============================] - 0s 1ms/step - loss: 0.1175 - acc: 0.9825 - val_loss: 0.0941 - val_acc: 0.9524\n",
      "Epoch 65/100\n",
      "23/23 [==============================] - 0s 1ms/step - loss: 0.1188 - acc: 0.9649 - val_loss: 0.0872 - val_acc: 0.9524\n",
      "Epoch 66/100\n",
      "23/23 [==============================] - 0s 1ms/step - loss: 0.1255 - acc: 0.9737 - val_loss: 0.0839 - val_acc: 1.0000\n",
      "Epoch 67/100\n",
      "23/23 [==============================] - 0s 1ms/step - loss: 0.1236 - acc: 0.9737 - val_loss: 0.0898 - val_acc: 0.9524\n",
      "Epoch 68/100\n",
      "23/23 [==============================] - 0s 2ms/step - loss: 0.1071 - acc: 0.9912 - val_loss: 0.0818 - val_acc: 0.9524\n",
      "Epoch 69/100\n",
      "23/23 [==============================] - 0s 1ms/step - loss: 0.1080 - acc: 0.9825 - val_loss: 0.0795 - val_acc: 1.0000\n",
      "Epoch 70/100\n",
      "23/23 [==============================] - 0s 1ms/step - loss: 0.1078 - acc: 0.9737 - val_loss: 0.0797 - val_acc: 0.9524\n",
      "Epoch 71/100\n",
      "23/23 [==============================] - 0s 1ms/step - loss: 0.1072 - acc: 0.9825 - val_loss: 0.0768 - val_acc: 1.0000\n",
      "Epoch 72/100\n",
      "23/23 [==============================] - 0s 1ms/step - loss: 0.1051 - acc: 0.9737 - val_loss: 0.0853 - val_acc: 0.9524\n",
      "Epoch 73/100\n",
      "23/23 [==============================] - 0s 1ms/step - loss: 0.1048 - acc: 0.9737 - val_loss: 0.0760 - val_acc: 1.0000\n",
      "Epoch 74/100\n",
      "23/23 [==============================] - 0s 1ms/step - loss: 0.1088 - acc: 0.9649 - val_loss: 0.0764 - val_acc: 0.9524\n",
      "Epoch 75/100\n",
      "23/23 [==============================] - 0s 1ms/step - loss: 0.1009 - acc: 0.9825 - val_loss: 0.0882 - val_acc: 0.9524\n",
      "Epoch 76/100\n",
      "23/23 [==============================] - 0s 1ms/step - loss: 0.1051 - acc: 0.9737 - val_loss: 0.0849 - val_acc: 0.9524\n",
      "Epoch 77/100\n",
      "23/23 [==============================] - 0s 1ms/step - loss: 0.1031 - acc: 0.9737 - val_loss: 0.0756 - val_acc: 0.9524\n",
      "Epoch 78/100\n",
      "23/23 [==============================] - 0s 1ms/step - loss: 0.1024 - acc: 0.9649 - val_loss: 0.0696 - val_acc: 1.0000\n",
      "Epoch 79/100\n",
      "23/23 [==============================] - 0s 1ms/step - loss: 0.0980 - acc: 0.9649 - val_loss: 0.0974 - val_acc: 0.9524\n",
      "Epoch 80/100\n",
      "23/23 [==============================] - 0s 1ms/step - loss: 0.1033 - acc: 0.9737 - val_loss: 0.0759 - val_acc: 0.9524\n",
      "Epoch 81/100\n",
      "23/23 [==============================] - 0s 1ms/step - loss: 0.0964 - acc: 0.9825 - val_loss: 0.0676 - val_acc: 1.0000\n",
      "Epoch 82/100\n",
      "23/23 [==============================] - 0s 1ms/step - loss: 0.0916 - acc: 0.9825 - val_loss: 0.0805 - val_acc: 0.9524\n",
      "Epoch 83/100\n",
      "23/23 [==============================] - 0s 1ms/step - loss: 0.0931 - acc: 0.9825 - val_loss: 0.0728 - val_acc: 0.9524\n",
      "Epoch 84/100\n",
      "23/23 [==============================] - 0s 1ms/step - loss: 0.0930 - acc: 0.9825 - val_loss: 0.0683 - val_acc: 0.9524\n",
      "Epoch 85/100\n",
      "23/23 [==============================] - 0s 1ms/step - loss: 0.0908 - acc: 0.9825 - val_loss: 0.0719 - val_acc: 0.9524\n",
      "Epoch 86/100\n",
      "23/23 [==============================] - 0s 1ms/step - loss: 0.0880 - acc: 0.9825 - val_loss: 0.0713 - val_acc: 0.9524\n",
      "Epoch 87/100\n",
      "23/23 [==============================] - 0s 1ms/step - loss: 0.0878 - acc: 0.9737 - val_loss: 0.0689 - val_acc: 0.9524\n",
      "Epoch 88/100\n",
      "23/23 [==============================] - 0s 1ms/step - loss: 0.0874 - acc: 0.9825 - val_loss: 0.0702 - val_acc: 0.9524\n",
      "Epoch 89/100\n",
      "23/23 [==============================] - 0s 1ms/step - loss: 0.0930 - acc: 0.9825 - val_loss: 0.0841 - val_acc: 0.9524\n",
      "Epoch 90/100\n",
      "23/23 [==============================] - 0s 1ms/step - loss: 0.0863 - acc: 0.9912 - val_loss: 0.0637 - val_acc: 0.9524\n",
      "Epoch 91/100\n",
      "23/23 [==============================] - 0s 1ms/step - loss: 0.0899 - acc: 0.9737 - val_loss: 0.0614 - val_acc: 1.0000\n",
      "Epoch 92/100\n",
      "23/23 [==============================] - 0s 1ms/step - loss: 0.0858 - acc: 0.9825 - val_loss: 0.0705 - val_acc: 0.9524\n",
      "Epoch 93/100\n",
      "23/23 [==============================] - 0s 1ms/step - loss: 0.0839 - acc: 0.9825 - val_loss: 0.0702 - val_acc: 0.9524\n",
      "Epoch 94/100\n",
      "23/23 [==============================] - 0s 1ms/step - loss: 0.0825 - acc: 0.9912 - val_loss: 0.0642 - val_acc: 0.9524\n",
      "Epoch 95/100\n",
      "23/23 [==============================] - 0s 1ms/step - loss: 0.0816 - acc: 0.9737 - val_loss: 0.0640 - val_acc: 0.9524\n",
      "Epoch 96/100\n",
      "23/23 [==============================] - 0s 1ms/step - loss: 0.0846 - acc: 0.9737 - val_loss: 0.0621 - val_acc: 0.9524\n",
      "Epoch 97/100\n",
      "23/23 [==============================] - 0s 1ms/step - loss: 0.0817 - acc: 0.9825 - val_loss: 0.0601 - val_acc: 0.9524\n",
      "Epoch 98/100\n",
      "23/23 [==============================] - 0s 1ms/step - loss: 0.0822 - acc: 0.9825 - val_loss: 0.0709 - val_acc: 0.9524\n",
      "Epoch 99/100\n",
      "23/23 [==============================] - 0s 1ms/step - loss: 0.0790 - acc: 0.9825 - val_loss: 0.0630 - val_acc: 0.9524\n",
      "Epoch 100/100\n",
      "23/23 [==============================] - 0s 1ms/step - loss: 0.0840 - acc: 0.9737 - val_loss: 0.0697 - val_acc: 0.9524\n"
     ]
    },
    {
     "data": {
      "text/plain": [
       "<tensorflow.python.keras.callbacks.History at 0x28c6821e9c8>"
      ]
     },
     "execution_count": 19,
     "metadata": {},
     "output_type": "execute_result"
    }
   ],
   "source": [
    "model.fit(X_train,Y_train,epochs=100,batch_size=5,validation_data=(X_val,Y_val))"
   ]
  },
  {
   "cell_type": "code",
   "execution_count": 20,
   "metadata": {},
   "outputs": [
    {
     "name": "stdout",
     "output_type": "stream",
     "text": [
      "Model: \"sequential\"\n",
      "_________________________________________________________________\n",
      "Layer (type)                 Output Shape              Param #   \n",
      "=================================================================\n",
      "flatten (Flatten)            (None, 4)                 0         \n",
      "_________________________________________________________________\n",
      "dense (Dense)                (None, 64)                320       \n",
      "_________________________________________________________________\n",
      "dense_1 (Dense)              (None, 3)                 195       \n",
      "=================================================================\n",
      "Total params: 515\n",
      "Trainable params: 515\n",
      "Non-trainable params: 0\n",
      "_________________________________________________________________\n"
     ]
    }
   ],
   "source": [
    "model.summary()"
   ]
  },
  {
   "cell_type": "code",
   "execution_count": 28,
   "metadata": {},
   "outputs": [
    {
     "name": "stdout",
     "output_type": "stream",
     "text": [
      "1/1 [==============================] - 0s 0s/step - loss: 0.1150 - acc: 0.9333\n",
      "Akurasi Testing ANN: 0.9333333373069763\n"
     ]
    }
   ],
   "source": [
    "from sklearn.metrics import confusion_matrix\n",
    "\n",
    "loss, accuracy = model.evaluate(X_test, Y_test)\n",
    "print('Akurasi Testing ANN:', accuracy)\n"
   ]
  },
  {
   "cell_type": "code",
   "execution_count": null,
   "metadata": {},
   "outputs": [],
   "source": []
  }
 ],
 "metadata": {
  "kernelspec": {
   "display_name": "Python 3",
   "language": "python",
   "name": "python3"
  },
  "language_info": {
   "codemirror_mode": {
    "name": "ipython",
    "version": 3
   },
   "file_extension": ".py",
   "mimetype": "text/x-python",
   "name": "python",
   "nbconvert_exporter": "python",
   "pygments_lexer": "ipython3",
   "version": "3.7.6"
  }
 },
 "nbformat": 4,
 "nbformat_minor": 2
}
