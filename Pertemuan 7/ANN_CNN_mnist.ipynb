{
 "cells": [
  {
   "cell_type": "code",
   "execution_count": 1,
   "metadata": {
    "colab": {},
    "colab_type": "code",
    "id": "rhSbQFmyGRru"
   },
   "outputs": [],
   "source": [
    "import keras\n",
    "from keras.datasets import mnist\n",
    "\n",
    "(X_train, y_train), (X_test, y_test) = mnist.load_data()\n",
    "X_train = X_train.reshape(-1, 28,28,1)\n",
    "X_test = X_test.reshape(-1, 28,28,1)\n",
    "X_train = X_train.astype('float32')\n",
    "X_test = X_test.astype('float32')\n",
    "X_train /= 255\n",
    "X_test /= 255\n",
    "y_train = keras.utils.to_categorical(y_train, 10)\n",
    "y_test = keras.utils.to_categorical(y_test, 10)"
   ]
  },
  {
   "cell_type": "code",
   "execution_count": 2,
   "metadata": {},
   "outputs": [],
   "source": [
    "from keras.models import Sequential\n",
    "from keras.layers import Flatten, Dense\n",
    "\n",
    "#model 1 menggunakan Multilayer Neural Network\n",
    "\n",
    "model1 = Sequential()\n",
    "model1.add(Flatten())\n",
    "model1.add(Dense(64,activation='relu'))\n",
    "model1.add(Dense(10,activation='softmax'))"
   ]
  },
  {
   "cell_type": "code",
   "execution_count": 4,
   "metadata": {},
   "outputs": [
    {
     "name": "stdout",
     "output_type": "stream",
     "text": [
      "Epoch 1/10\n",
      "600/600 [==============================] - 1s 1ms/step - loss: 0.3910 - acc: 0.8912 - val_loss: 0.2218 - val_acc: 0.9359\n",
      "Epoch 2/10\n",
      "600/600 [==============================] - 1s 1ms/step - loss: 0.1959 - acc: 0.9451 - val_loss: 0.1652 - val_acc: 0.9526\n",
      "Epoch 3/10\n",
      "600/600 [==============================] - 1s 1ms/step - loss: 0.1460 - acc: 0.9583 - val_loss: 0.1332 - val_acc: 0.9620\n",
      "Epoch 4/10\n",
      "600/600 [==============================] - 1s 1ms/step - loss: 0.1175 - acc: 0.9657 - val_loss: 0.1212 - val_acc: 0.9637\n",
      "Epoch 5/10\n",
      "600/600 [==============================] - 1s 1ms/step - loss: 0.0989 - acc: 0.9716 - val_loss: 0.1098 - val_acc: 0.9668\n",
      "Epoch 6/10\n",
      "600/600 [==============================] - 1s 1ms/step - loss: 0.0840 - acc: 0.9757 - val_loss: 0.0967 - val_acc: 0.9706\n",
      "Epoch 7/10\n",
      "600/600 [==============================] - 1s 1ms/step - loss: 0.0743 - acc: 0.9788 - val_loss: 0.0949 - val_acc: 0.9719\n",
      "Epoch 8/10\n",
      "600/600 [==============================] - 1s 1ms/step - loss: 0.0646 - acc: 0.9813 - val_loss: 0.0913 - val_acc: 0.9721\n",
      "Epoch 9/10\n",
      "600/600 [==============================] - 1s 1ms/step - loss: 0.0579 - acc: 0.9831 - val_loss: 0.0890 - val_acc: 0.9733\n",
      "Epoch 10/10\n",
      "600/600 [==============================] - 1s 1ms/step - loss: 0.0508 - acc: 0.9853 - val_loss: 0.0839 - val_acc: 0.9761\n"
     ]
    }
   ],
   "source": [
    "\n",
    "model1.compile(optimizer='adam',loss='categorical_crossentropy',metrics=['acc'])\n",
    "history1 = model1.fit(X_train,y_train,epochs=10,batch_size=100,validation_data=(X_test,y_test))"
   ]
  },
  {
   "cell_type": "code",
   "execution_count": 5,
   "metadata": {},
   "outputs": [
    {
     "name": "stdout",
     "output_type": "stream",
     "text": [
      "Model: \"sequential\"\n",
      "_________________________________________________________________\n",
      "Layer (type)                 Output Shape              Param #   \n",
      "=================================================================\n",
      "flatten (Flatten)            (100, 784)                0         \n",
      "_________________________________________________________________\n",
      "dense (Dense)                (100, 64)                 50240     \n",
      "_________________________________________________________________\n",
      "dense_1 (Dense)              (100, 10)                 650       \n",
      "=================================================================\n",
      "Total params: 50,890\n",
      "Trainable params: 50,890\n",
      "Non-trainable params: 0\n",
      "_________________________________________________________________\n"
     ]
    }
   ],
   "source": [
    "model1.summary()"
   ]
  },
  {
   "cell_type": "code",
   "execution_count": 6,
   "metadata": {},
   "outputs": [
    {
     "name": "stdout",
     "output_type": "stream",
     "text": [
      "313/313 [==============================] - 0s 1ms/step - loss: 0.0839 - acc: 0.9761\n"
     ]
    },
    {
     "data": {
      "text/plain": [
       "[0.08388985693454742, 0.9761000275611877]"
      ]
     },
     "execution_count": 6,
     "metadata": {},
     "output_type": "execute_result"
    }
   ],
   "source": [
    "model1.evaluate(X_test,y_test)"
   ]
  },
  {
   "cell_type": "code",
   "execution_count": 9,
   "metadata": {},
   "outputs": [
    {
     "data": {
      "text/plain": [
       "<matplotlib.legend.Legend at 0x1d03cb64f08>"
      ]
     },
     "execution_count": 9,
     "metadata": {},
     "output_type": "execute_result"
    },
    {
     "data": {
      "image/png": "[encoded data removed]",
      "text/plain": [
       "<Figure size 432x288 with 1 Axes>"
      ]
     },
     "metadata": {
      "needs_background": "light"
     },
     "output_type": "display_data"
    }
   ],
   "source": [
    "import matplotlib.pyplot as plt\n",
    "\n",
    "epochs = range(10)\n",
    "\n",
    "loss1 = history1.history['loss']\n",
    "val_loss1 = history1.history['val_loss']\n",
    "\n",
    "plt.plot(epochs,loss1,'r',label='training loss ANN')\n",
    "plt.plot(epochs,val_loss1,'b',label='validasi loss ANN')\n",
    "plt.legend()"
   ]
  },
  {
   "cell_type": "code",
   "execution_count": 8,
   "metadata": {},
   "outputs": [
    {
     "name": "stdout",
     "output_type": "stream",
     "text": [
      "label actual: 3\n",
      "label prediction: 3\n"
     ]
    }
   ],
   "source": [
    "import numpy as np\n",
    "\n",
    "pred = model1.predict(X_test)\n",
    "print('label actual:',np.argmax(y_test[30]))\n",
    "print('label prediction:',np.argmax(pred[30]))"
   ]
  },
  {
   "cell_type": "code",
   "execution_count": 10,
   "metadata": {
    "colab": {},
    "colab_type": "code",
    "id": "zbiRT3xlGMEq"
   },
   "outputs": [],
   "source": [
    "from keras.models import Sequential\n",
    "from keras.layers import Conv2D, MaxPooling2D, Flatten, Dense\n",
    "\n",
    "#model2 menggunakan Convolutional Neural Network\n",
    "\n",
    "model2 = Sequential()\n",
    "model2.add(Conv2D(16,(3,3),activation='relu',input_shape=(28,28,1),padding='same'))\n",
    "model2.add(MaxPooling2D(2,2))\n",
    "model2.add(Conv2D(32,(3,3),activation='relu',padding='same'))\n",
    "model2.add(MaxPooling2D(2,2))\n",
    "\n",
    "model2.add(Flatten())\n",
    "model2.add(Dense(64,activation='relu'))\n",
    "model2.add(Dense(10,activation='softmax'))"
   ]
  },
  {
   "cell_type": "code",
   "execution_count": 11,
   "metadata": {
    "colab": {},
    "colab_type": "code",
    "id": "SYBNfmHzHAA_"
   },
   "outputs": [
    {
     "name": "stdout",
     "output_type": "stream",
     "text": [
      "Model: \"sequential_1\"\n",
      "_________________________________________________________________\n",
      "Layer (type)                 Output Shape              Param #   \n",
      "=================================================================\n",
      "conv2d (Conv2D)              (None, 28, 28, 16)        160       \n",
      "_________________________________________________________________\n",
      "max_pooling2d (MaxPooling2D) (None, 14, 14, 16)        0         \n",
      "_________________________________________________________________\n",
      "conv2d_1 (Conv2D)            (None, 14, 14, 32)        4640      \n",
      "_________________________________________________________________\n",
      "max_pooling2d_1 (MaxPooling2 (None, 7, 7, 32)          0         \n",
      "_________________________________________________________________\n",
      "flatten_1 (Flatten)          (None, 1568)              0         \n",
      "_________________________________________________________________\n",
      "dense_2 (Dense)              (None, 64)                100416    \n",
      "_________________________________________________________________\n",
      "dense_3 (Dense)              (None, 10)                650       \n",
      "=================================================================\n",
      "Total params: 105,866\n",
      "Trainable params: 105,866\n",
      "Non-trainable params: 0\n",
      "_________________________________________________________________\n"
     ]
    }
   ],
   "source": [
    "model2.summary()"
   ]
  },
  {
   "cell_type": "code",
   "execution_count": 12,
   "metadata": {
    "colab": {},
    "colab_type": "code",
    "id": "BFZPMTneIP2M"
   },
   "outputs": [
    {
     "name": "stdout",
     "output_type": "stream",
     "text": [
      "Epoch 1/10\n",
      "600/600 [==============================] - 14s 23ms/step - loss: 0.2418 - acc: 0.9264 - val_loss: 0.0683 - val_acc: 0.9795\n",
      "Epoch 2/10\n",
      "600/600 [==============================] - 14s 24ms/step - loss: 0.0666 - acc: 0.9795 - val_loss: 0.0499 - val_acc: 0.9836\n",
      "Epoch 3/10\n",
      "600/600 [==============================] - 23s 38ms/step - loss: 0.0470 - acc: 0.9852 - val_loss: 0.0441 - val_acc: 0.9843\n",
      "Epoch 4/10\n",
      "600/600 [==============================] - 16s 26ms/step - loss: 0.0351 - acc: 0.9891 - val_loss: 0.0457 - val_acc: 0.9846\n",
      "Epoch 5/10\n",
      "600/600 [==============================] - 18s 29ms/step - loss: 0.0298 - acc: 0.9909 - val_loss: 0.0366 - val_acc: 0.9888\n",
      "Epoch 6/10\n",
      "600/600 [==============================] - 19s 31ms/step - loss: 0.0238 - acc: 0.9929 - val_loss: 0.0347 - val_acc: 0.9898\n",
      "Epoch 7/10\n",
      "600/600 [==============================] - 19s 32ms/step - loss: 0.0199 - acc: 0.9938 - val_loss: 0.0284 - val_acc: 0.9897\n",
      "Epoch 8/10\n",
      "600/600 [==============================] - 18s 30ms/step - loss: 0.0167 - acc: 0.9942 - val_loss: 0.0332 - val_acc: 0.9897\n",
      "Epoch 9/10\n",
      "600/600 [==============================] - 19s 32ms/step - loss: 0.0148 - acc: 0.9951 - val_loss: 0.0317 - val_acc: 0.9905\n",
      "Epoch 10/10\n",
      "600/600 [==============================] - 19s 31ms/step - loss: 0.0133 - acc: 0.9957 - val_loss: 0.0304 - val_acc: 0.9897\n"
     ]
    }
   ],
   "source": [
    "model2.compile(optimizer='adam',loss='categorical_crossentropy',metrics=['acc'])\n",
    "\n",
    "history2 = model2.fit(X_train,y_train,epochs=10,batch_size=100,validation_data=(X_test,y_test))"
   ]
  },
  {
   "cell_type": "code",
   "execution_count": 13,
   "metadata": {},
   "outputs": [
    {
     "name": "stdout",
     "output_type": "stream",
     "text": [
      "313/313 [==============================] - 1s 3ms/step - loss: 0.0304 - acc: 0.9897\n"
     ]
    },
    {
     "data": {
      "text/plain": [
       "[0.03035075031220913, 0.9897000193595886]"
      ]
     },
     "execution_count": 13,
     "metadata": {},
     "output_type": "execute_result"
    }
   ],
   "source": [
    "model2.evaluate(X_test,y_test)"
   ]
  },
  {
   "cell_type": "code",
   "execution_count": 14,
   "metadata": {},
   "outputs": [
    {
     "data": {
      "text/plain": [
       "<matplotlib.legend.Legend at 0x1d051b47d48>"
      ]
     },
     "execution_count": 14,
     "metadata": {},
     "output_type": "execute_result"
    },
    {
     "data": {
      "image/png": "[encoded data removed]",
      "text/plain": [
       "<Figure size 432x288 with 1 Axes>"
      ]
     },
     "metadata": {
      "needs_background": "light"
     },
     "output_type": "display_data"
    }
   ],
   "source": [
    "import matplotlib.pyplot as plt\n",
    "\n",
    "epochs = range(10)\n",
    "\n",
    "loss2 = history2.history['loss']\n",
    "val_loss2 = history2.history['val_loss']\n",
    "\n",
    "plt.plot(epochs,loss2,'r',label='train loss CNN')\n",
    "plt.plot(epochs,val_loss2,'b',label='val loss CNN')\n",
    "plt.legend()"
   ]
  },
  {
   "cell_type": "code",
   "execution_count": 15,
   "metadata": {
    "colab": {},
    "colab_type": "code",
    "id": "h9CIDXZhKwsM"
   },
   "outputs": [
    {
     "data": {
      "text/plain": [
       "<matplotlib.legend.Legend at 0x1d051bbdfc8>"
      ]
     },
     "execution_count": 15,
     "metadata": {},
     "output_type": "execute_result"
    },
    {
     "data": {
      "image/png": "[encoded data removed]",
      "text/plain": [
       "<Figure size 432x288 with 1 Axes>"
      ]
     },
     "metadata": {
      "needs_background": "light"
     },
     "output_type": "display_data"
    }
   ],
   "source": [
    "import matplotlib.pyplot as plt\n",
    "\n",
    "epochs = range(10)\n",
    "\n",
    "acc1 = history1.history['acc']\n",
    "val_acc1 = history1.history['val_acc']\n",
    "\n",
    "plt.plot(epochs,acc1,'r',label='training MLP')\n",
    "plt.plot(epochs,val_acc1,'b',label='validasi MLP')\n",
    "\n",
    "acc2 = history2.history['acc']\n",
    "val_acc2 = history2.history['val_acc']\n",
    "\n",
    "plt.plot(epochs,acc2,'r+',label='training CNN')\n",
    "plt.plot(epochs,val_acc2,'b+',label='validasi CNN')\n",
    "plt.legend()"
   ]
  },
  {
   "cell_type": "code",
   "execution_count": 16,
   "metadata": {},
   "outputs": [
    {
     "data": {
      "text/plain": [
       "<matplotlib.legend.Legend at 0x1d051bd5bc8>"
      ]
     },
     "execution_count": 16,
     "metadata": {},
     "output_type": "execute_result"
    },
    {
     "data": {
      "image/png": "[encoded data removed]",
      "text/plain": [
       "<Figure size 432x288 with 1 Axes>"
      ]
     },
     "metadata": {
      "needs_background": "light"
     },
     "output_type": "display_data"
    }
   ],
   "source": [
    "import matplotlib.pyplot as plt\n",
    "\n",
    "epochs = range(10)\n",
    "\n",
    "loss1 = history1.history['loss']\n",
    "val_loss1 = history1.history['val_loss']\n",
    "\n",
    "plt.plot(epochs,loss1,'r',label='train loss ANN')\n",
    "plt.plot(epochs,val_loss1,'b',label='val loss ANN')\n",
    "\n",
    "loss2 = history2.history['loss']\n",
    "val_loss2 = history2.history['val_loss']\n",
    "\n",
    "plt.plot(epochs,loss2,'r+',label='train loss CNN')\n",
    "plt.plot(epochs,val_loss2,'b+',label='val loss CNN')\n",
    "plt.legend()"
   ]
  },
  {
   "cell_type": "code",
   "execution_count": 17,
   "metadata": {},
   "outputs": [
    {
     "name": "stdout",
     "output_type": "stream",
     "text": [
      "label actual: 3\n",
      "label prediction: 3\n"
     ]
    }
   ],
   "source": [
    "import numpy as np\n",
    "\n",
    "pred = model2.predict(X_test)\n",
    "print('label actual:',np.argmax(y_test[30]))\n",
    "print('label prediction:',np.argmax(pred[30]))"
   ]
  },
  {
   "cell_type": "code",
   "execution_count": 18,
   "metadata": {},
   "outputs": [],
   "source": [
    "from keras.models import Sequential\n",
    "from keras.layers import Conv2D, MaxPooling2D, Flatten, Dense, Dropout\n",
    "\n",
    "#model 3 Convolutional Neural Network dengan Dropout\n",
    "\n",
    "model3 = Sequential()\n",
    "model3.add(Conv2D(16,(3,3),activation='relu',input_shape=(28,28,1),padding='same'))\n",
    "model3.add(MaxPooling2D(2,2))\n",
    "model3.add(Conv2D(32,(3,3),activation='relu',padding='same'))\n",
    "model3.add(MaxPooling2D(2,2))\n",
    "\n",
    "model3.add(Flatten())\n",
    "model3.add(Dense(64,activation='relu'))\n",
    "model3.add(Dropout(0.5))\n",
    "model3.add(Dense(10,activation='softmax'))"
   ]
  },
  {
   "cell_type": "code",
   "execution_count": 19,
   "metadata": {},
   "outputs": [
    {
     "name": "stdout",
     "output_type": "stream",
     "text": [
      "Model: \"sequential_2\"\n",
      "_________________________________________________________________\n",
      "Layer (type)                 Output Shape              Param #   \n",
      "=================================================================\n",
      "conv2d_2 (Conv2D)            (None, 28, 28, 16)        160       \n",
      "_________________________________________________________________\n",
      "max_pooling2d_2 (MaxPooling2 (None, 14, 14, 16)        0         \n",
      "_________________________________________________________________\n",
      "conv2d_3 (Conv2D)            (None, 14, 14, 32)        4640      \n",
      "_________________________________________________________________\n",
      "max_pooling2d_3 (MaxPooling2 (None, 7, 7, 32)          0         \n",
      "_________________________________________________________________\n",
      "flatten_2 (Flatten)          (None, 1568)              0         \n",
      "_________________________________________________________________\n",
      "dense_4 (Dense)              (None, 64)                100416    \n",
      "_________________________________________________________________\n",
      "dropout (Dropout)            (None, 64)                0         \n",
      "_________________________________________________________________\n",
      "dense_5 (Dense)              (None, 10)                650       \n",
      "=================================================================\n",
      "Total params: 105,866\n",
      "Trainable params: 105,866\n",
      "Non-trainable params: 0\n",
      "_________________________________________________________________\n"
     ]
    }
   ],
   "source": [
    "model3.summary()"
   ]
  },
  {
   "cell_type": "code",
   "execution_count": 20,
   "metadata": {},
   "outputs": [
    {
     "name": "stdout",
     "output_type": "stream",
     "text": [
      "Epoch 1/10\n",
      "600/600 [==============================] - 14s 23ms/step - loss: 0.3895 - acc: 0.8805 - val_loss: 0.0716 - val_acc: 0.9766\n",
      "Epoch 2/10\n",
      "600/600 [==============================] - 14s 23ms/step - loss: 0.1458 - acc: 0.9571 - val_loss: 0.0561 - val_acc: 0.9825\n",
      "Epoch 3/10\n",
      "600/600 [==============================] - 31s 52ms/step - loss: 0.1071 - acc: 0.9679 - val_loss: 0.0472 - val_acc: 0.9848\n",
      "Epoch 4/10\n",
      "600/600 [==============================] - 16s 27ms/step - loss: 0.0894 - acc: 0.9740 - val_loss: 0.0380 - val_acc: 0.9867\n",
      "Epoch 5/10\n",
      "600/600 [==============================] - 20s 33ms/step - loss: 0.0787 - acc: 0.9767 - val_loss: 0.0359 - val_acc: 0.9895\n",
      "Epoch 6/10\n",
      "600/600 [==============================] - 20s 33ms/step - loss: 0.0673 - acc: 0.9798 - val_loss: 0.0300 - val_acc: 0.9901\n",
      "Epoch 7/10\n",
      "600/600 [==============================] - 19s 32ms/step - loss: 0.0644 - acc: 0.9809 - val_loss: 0.0307 - val_acc: 0.9885\n",
      "Epoch 8/10\n",
      "600/600 [==============================] - 20s 34ms/step - loss: 0.0587 - acc: 0.9820 - val_loss: 0.0298 - val_acc: 0.9900\n",
      "Epoch 9/10\n",
      "600/600 [==============================] - 19s 32ms/step - loss: 0.0526 - acc: 0.9836 - val_loss: 0.0289 - val_acc: 0.9915\n",
      "Epoch 10/10\n",
      "600/600 [==============================] - 20s 34ms/step - loss: 0.0509 - acc: 0.9843 - val_loss: 0.0285 - val_acc: 0.9901\n"
     ]
    }
   ],
   "source": [
    "model3.compile(optimizer='adam',loss='categorical_crossentropy',metrics=['acc'])\n",
    "\n",
    "history3 = model3.fit(X_train,y_train,epochs=10,batch_size=100,validation_data=(X_test,y_test))"
   ]
  },
  {
   "cell_type": "code",
   "execution_count": 21,
   "metadata": {},
   "outputs": [
    {
     "name": "stdout",
     "output_type": "stream",
     "text": [
      "313/313 [==============================] - 1s 3ms/step - loss: 0.0285 - acc: 0.9901\n"
     ]
    },
    {
     "data": {
      "text/plain": [
       "[0.028538506478071213, 0.9901000261306763]"
      ]
     },
     "execution_count": 21,
     "metadata": {},
     "output_type": "execute_result"
    }
   ],
   "source": [
    "model3.evaluate(X_test,y_test)"
   ]
  },
  {
   "cell_type": "code",
   "execution_count": 22,
   "metadata": {},
   "outputs": [
    {
     "name": "stdout",
     "output_type": "stream",
     "text": [
      "label actual: 3\n",
      "label prediction: 3\n"
     ]
    }
   ],
   "source": [
    "pred = model3.predict(X_test)\n",
    "print('label actual:',np.argmax(y_test[30]))\n",
    "print('label prediction:',np.argmax(pred[30]))"
   ]
  },
  {
   "cell_type": "code",
   "execution_count": 23,
   "metadata": {},
   "outputs": [
    {
     "data": {
      "text/plain": [
       "<matplotlib.legend.Legend at 0x1d052f27688>"
      ]
     },
     "execution_count": 23,
     "metadata": {},
     "output_type": "execute_result"
    },
    {
     "data": {
      "image/png": "[encoded data removed]",
      "text/plain": [
       "<Figure size 432x288 with 1 Axes>"
      ]
     },
     "metadata": {
      "needs_background": "light"
     },
     "output_type": "display_data"
    }
   ],
   "source": [
    "import matplotlib.pyplot as plt\n",
    "\n",
    "acc2 = history2.history['acc']\n",
    "val_acc2 = history2.history['val_acc']\n",
    "\n",
    "epochs = range(10)\n",
    "\n",
    "plt.plot(epochs,acc2,'r',label='training CNN')\n",
    "plt.plot(epochs,val_acc2,'b',label='testing CNN')\n",
    "\n",
    "acc3 = history3.history['acc']\n",
    "val_acc3 = history3.history['val_acc']\n",
    "\n",
    "plt.plot(epochs,acc3,'r+',label='training CNN with Dropout')\n",
    "plt.plot(epochs,val_acc3,'b+',label='testing CNN with Dropout')\n",
    "plt.legend()"
   ]
  },
  {
   "cell_type": "code",
   "execution_count": 24,
   "metadata": {},
   "outputs": [
    {
     "data": {
      "text/plain": [
       "<matplotlib.legend.Legend at 0x1d052f56748>"
      ]
     },
     "execution_count": 24,
     "metadata": {},
     "output_type": "execute_result"
    },
    {
     "data": {
      "image/png": "[encoded data removed]",
      "text/plain": [
       "<Figure size 432x288 with 1 Axes>"
      ]
     },
     "metadata": {
      "needs_background": "light"
     },
     "output_type": "display_data"
    }
   ],
   "source": [
    "import matplotlib.pyplot as plt\n",
    "\n",
    "loss2 = history2.history['loss']\n",
    "val_loss2 = history2.history['val_loss']\n",
    "\n",
    "epochs = range(10)\n",
    "\n",
    "plt.plot(epochs,loss2,'r',label='training CNN')\n",
    "plt.plot(epochs,val_loss2,'b',label='testing CNN')\n",
    "\n",
    "loss3 = history3.history['loss']\n",
    "val_loss3 = history3.history['val_loss']\n",
    "\n",
    "plt.plot(epochs,loss3,'r+',label='training CNN with Dropout')\n",
    "plt.plot(epochs,val_loss3,'b+',label='testing CNN with Dropout')\n",
    "plt.legend()"
   ]
  },
  {
   "cell_type": "code",
   "execution_count": 131,
   "metadata": {},
   "outputs": [],
   "source": [
    "# Network Parameters\n",
    "# MNIST image shape is 28*28px, we will then handle 28 sequences of 28 timesteps for every sample.\n",
    "num_classes = 10 # total classes (0-9 digits).\n",
    "num_features = 784 # data features (img shape: 28*28).\n",
    "num_input = 28 # number of sequences.\n",
    "timesteps = 28 # timesteps.\n",
    "\n",
    "x_train, x_test = X_train.reshape([-1, 28, 28]), X_test.reshape([-1, num_features])"
   ]
  },
  {
   "cell_type": "code",
   "execution_count": null,
   "metadata": {},
   "outputs": [],
   "source": []
  }
 ],
 "metadata": {
  "accelerator": "GPU",
  "colab": {
   "name": "cv_demo2.ipynb",
   "provenance": [],
   "version": "0.3.2"
  },
  "kernelspec": {
   "display_name": "Python 3",
   "language": "python",
   "name": "python3"
  },
  "language_info": {
   "codemirror_mode": {
    "name": "ipython",
    "version": 3
   },
   "file_extension": ".py",
   "mimetype": "text/x-python",
   "name": "python",
   "nbconvert_exporter": "python",
   "pygments_lexer": "ipython3",
   "version": "3.8.8"
  }
 },
 "nbformat": 4,
 "nbformat_minor": 1
}
